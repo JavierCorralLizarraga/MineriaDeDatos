{
 "cells": [
  {
   "cell_type": "code",
   "execution_count": 1,
   "metadata": {},
   "outputs": [
    {
     "name": "stderr",
     "output_type": "stream",
     "text": [
      "Warning message:\n",
      "\"package 'dplyr' was built under R version 3.6.3\"Error: package or namespace load failed for 'dplyr' in loadNamespace(i, c(lib.loc, .libPaths()), versionCheck = vI[[i]]):\n",
      " namespace 'rlang' 0.4.1 is already loaded, but >= 0.4.10 is required\n",
      "Installing package into 'C:/Users/javie/Documents/R/win-library/3.6'\n",
      "(as 'lib' is unspecified)\n",
      "also installing the dependencies 'lifecycle', 'rlang'\n",
      "\n"
     ]
    },
    {
     "name": "stdout",
     "output_type": "stream",
     "text": [
      "\n",
      "  There are binary versions available but the source versions are later:\n",
      "          binary source needs_compilation\n",
      "lifecycle  1.0.0  1.0.1             FALSE\n",
      "rlang     0.4.11  1.0.2              TRUE\n",
      "rvest      1.0.0  1.0.2             FALSE\n",
      "\n",
      "  Binaries will be installed\n",
      "package 'rlang' successfully unpacked and MD5 sums checked\n"
     ]
    },
    {
     "name": "stderr",
     "output_type": "stream",
     "text": [
      "Warning message:\n",
      "\"cannot remove prior installation of package 'rlang'\"Warning message in file.copy(savedcopy, lib, recursive = TRUE):\n",
      "\"problema al copiar C:\\Users\\javie\\Documents\\R\\win-library\\3.6\\00LOCK\\rlang\\libs\\x64\\rlang.dll  a C:\\Users\\javie\\Documents\\R\\win-library\\3.6\\rlang\\libs\\x64\\rlang.dll: Permission denied\"Warning message:\n",
      "\"restored 'rlang'\""
     ]
    },
    {
     "name": "stdout",
     "output_type": "stream",
     "text": [
      "\n",
      "The downloaded binary packages are in\n",
      "\tC:\\temp\\Rtmp8o8xNm\\downloaded_packages\n"
     ]
    },
    {
     "name": "stderr",
     "output_type": "stream",
     "text": [
      "installing the source packages 'lifecycle', 'rvest'\n",
      "\n",
      "Warning message in install.packages(p, repos = \"https://cran.itam.mx/\"):\n",
      "\"installation of package 'lifecycle' had non-zero exit status\"Warning message in install.packages(p, repos = \"https://cran.itam.mx/\"):\n",
      "\"installation of package 'rvest' had non-zero exit status\"Warning message in library(package, lib.loc = lib.loc, character.only = TRUE, logical.return = TRUE, :\n",
      "\"there is no package called 'rvest'\""
     ]
    }
   ],
   "source": [
    "usePackage <- function(p) \n",
    "{\n",
    "  if (!is.element(p, installed.packages()[,1]))\n",
    "    install.packages(p, repos = \"https://cran.itam.mx/\")\n",
    "  suppressPackageStartupMessages(require(p, character.only = TRUE, quietly  = TRUE))\n",
    "}\n",
    "\n",
    "usePackage(\"dplyr\") \n",
    "usePackage(\"rvest\")\n",
    "usePackage(\"stringr\")"
   ]
  },
  {
   "cell_type": "code",
   "execution_count": 5,
   "metadata": {},
   "outputs": [
    {
     "ename": "ERROR",
     "evalue": "Error in read_html(.): no se pudo encontrar la función \"read_html\"\n",
     "output_type": "error",
     "traceback": [
      "Error in read_html(.): no se pudo encontrar la función \"read_html\"\nTraceback:\n",
      "1. url %>% read_html() %>% html_nodes(\"tbody th , .wt-ic+ td , .small , .sep:nth-child(9)\") %>% \n .     html_text() %>% trimws()",
      "2. withVisible(eval(quote(`_fseq`(`_lhs`)), env, env))",
      "3. eval(quote(`_fseq`(`_lhs`)), env, env)",
      "4. eval(quote(`_fseq`(`_lhs`)), env, env)",
      "5. `_fseq`(`_lhs`)",
      "6. freduce(value, `_function_list`)",
      "7. function_list[[i]](value)"
     ]
    }
   ],
   "source": [
    "url<-\"https://www.timeanddate.com/weather/mexico/mexico-city/hourly\"\n",
    "marcadores <- url %>% read_html() %>% \n",
    "  html_nodes(\"tbody th , .wt-ic+ td , .small , .sep:nth-child(9)\") %>% \n",
    "  html_text() %>% #%>% es como un | en el cmd, el resultado de la izquierda se convierte en el parámetro de la llamada de la derecha \n",
    "  trimws() #Trim strings\n",
    "m <- matrix(marcadores[2:97], ncol=4,byrow=TRUE)\n",
    "df <- as.data.frame(m)\n",
    "names(df) <- c(\"Time\",\"Temp\",\"Weather\", \"Chance\")\n",
    "df\n",
    "df<-mutate(df, Time = str_match(`Time`, \"^[0-9]{1,2}:[0-9]{2}\\\\s[a|p]m\"))\n",
    "df"
   ]
  }
 ],
 "metadata": {
  "kernelspec": {
   "display_name": "R",
   "language": "R",
   "name": "ir"
  },
  "language_info": {
   "codemirror_mode": "r",
   "file_extension": ".r",
   "mimetype": "text/x-r-source",
   "name": "R",
   "pygments_lexer": "r",
   "version": "3.6.1"
  }
 },
 "nbformat": 4,
 "nbformat_minor": 4
}
